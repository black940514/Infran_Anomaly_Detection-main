{
 "cells": [
  {
   "cell_type": "markdown",
   "metadata": {
    "id": "SyQuWKAJt3xq"
   },
   "source": [
    "# Deep Learning model의 class weight 조정\n",
    "\n",
    "## DNN 이용, Class Weight 조정, OverSampling\n",
    "\n",
    "- Data 는 이전 실습 문제와 동일한 [Credit Card Fraud Detection](https://www.kaggle.com/mlg-ulb/creditcardfraud) - Kaggle"
   ]
  },
  {
   "cell_type": "markdown",
   "metadata": {
    "id": "IdW269nBt3x2"
   },
   "source": [
    "### Kaggle Credit Card Fraud dataset 다운로드"
   ]
  },
  {
   "cell_type": "code",
   "execution_count": 87,
   "metadata": {},
   "outputs": [],
   "source": [
    "import torch\n",
    "import pandas as pd\n",
    "import numpy as np\n",
    "import matplotlib.pyplot as plt\n",
    "import seaborn as sns\n",
    "from sklearn.model_selection import train_test_split\n",
    "from collections import Counter\n",
    "from sklearn.discriminant_analysis import StandardScaler\n",
    "import torch.nn as nn\n",
    "import torch.optim as optim\n",
    "from torch.utils.data import DataLoader, TensorDataset\n",
    "from sklearn.metrics import roc_auc_score, f1_score, accuracy_score, precision_score, recall_score\n"
   ]
  },
  {
   "cell_type": "code",
   "execution_count": 4,
   "metadata": {},
   "outputs": [
    {
     "name": "stdout",
     "output_type": "stream",
     "text": [
      "   Time        V1        V2        V3        V4        V5        V6        V7  \\\n",
      "0   0.0 -1.359807 -0.072781  2.536347  1.378155 -0.338321  0.462388  0.239599   \n",
      "1   0.0  1.191857  0.266151  0.166480  0.448154  0.060018 -0.082361 -0.078803   \n",
      "2   1.0 -1.358354 -1.340163  1.773209  0.379780 -0.503198  1.800499  0.791461   \n",
      "3   1.0 -0.966272 -0.185226  1.792993 -0.863291 -0.010309  1.247203  0.237609   \n",
      "4   2.0 -1.158233  0.877737  1.548718  0.403034 -0.407193  0.095921  0.592941   \n",
      "\n",
      "         V8        V9  ...       V21       V22       V23       V24       V25  \\\n",
      "0  0.098698  0.363787  ... -0.018307  0.277838 -0.110474  0.066928  0.128539   \n",
      "1  0.085102 -0.255425  ... -0.225775 -0.638672  0.101288 -0.339846  0.167170   \n",
      "2  0.247676 -1.514654  ...  0.247998  0.771679  0.909412 -0.689281 -0.327642   \n",
      "3  0.377436 -1.387024  ... -0.108300  0.005274 -0.190321 -1.175575  0.647376   \n",
      "4 -0.270533  0.817739  ... -0.009431  0.798278 -0.137458  0.141267 -0.206010   \n",
      "\n",
      "        V26       V27       V28  Amount  Class  \n",
      "0 -0.189115  0.133558 -0.021053  149.62      0  \n",
      "1  0.125895 -0.008983  0.014724    2.69      0  \n",
      "2 -0.139097 -0.055353 -0.059752  378.66      0  \n",
      "3 -0.221929  0.062723  0.061458  123.50      0  \n",
      "4  0.502292  0.219422  0.215153   69.99      0  \n",
      "\n",
      "[5 rows x 31 columns]\n"
     ]
    }
   ],
   "source": [
    "df = pd.read_csv(\"https://storage.googleapis.com/download.tensorflow.org/data/creditcard.csv\")\n",
    "print(df.head())"
   ]
  },
  {
   "cell_type": "code",
   "execution_count": 5,
   "metadata": {},
   "outputs": [
    {
     "data": {
      "text/plain": [
       "Class\n",
       "0    284315\n",
       "1       492\n",
       "Name: count, dtype: int64"
      ]
     },
     "execution_count": 5,
     "metadata": {},
     "output_type": "execute_result"
    }
   ],
   "source": [
    "df['Class'].value_counts()"
   ]
  },
  {
   "cell_type": "code",
   "execution_count": 15,
   "metadata": {},
   "outputs": [
    {
     "name": "stdout",
     "output_type": "stream",
     "text": [
      "Number of normal transactions: 284315\n",
      "Number of fraudulent transactions: 492\n",
      "Total number of transactions: 284807\n",
      "Fraudulent transaction percentage: 0.17%\n"
     ]
    }
   ],
   "source": [
    "neg, pos = df['Class'].value_counts().values.tolist()\n",
    "total = neg + pos\n",
    "print(f'Number of normal transactions: {neg}')\n",
    "print(f'Number of fraudulent transactions: {pos}')\n",
    "print(f'Total number of transactions: {total}')\n",
    "print(f'Fraudulent transaction percentage: {pos/total*100:.2f}%')\n"
   ]
  },
  {
   "cell_type": "markdown",
   "metadata": {
    "id": "738aexZRt3x-"
   },
   "source": [
    "### 클래스 레이블 불균형 조사"
   ]
  },
  {
   "cell_type": "markdown",
   "metadata": {
    "id": "USH9Dhvjt3yG"
   },
   "source": [
    "## Data 전처리\n",
    "\n",
    "- 2 일 동안의 data가 00:00:00 부터 발생했으므로 Time을 일중 시간으로 변경 : time / 3600 초 % 24 시간  \n",
    "- Amount column 은 편차가 크므로 log-scale 로 변환"
   ]
  },
  {
   "cell_type": "code",
   "execution_count": 33,
   "metadata": {},
   "outputs": [
    {
     "data": {
      "text/html": [
       "<div>\n",
       "<style scoped>\n",
       "    .dataframe tbody tr th:only-of-type {\n",
       "        vertical-align: middle;\n",
       "    }\n",
       "\n",
       "    .dataframe tbody tr th {\n",
       "        vertical-align: top;\n",
       "    }\n",
       "\n",
       "    .dataframe thead th {\n",
       "        text-align: right;\n",
       "    }\n",
       "</style>\n",
       "<table border=\"1\" class=\"dataframe\">\n",
       "  <thead>\n",
       "    <tr style=\"text-align: right;\">\n",
       "      <th></th>\n",
       "      <th>Time</th>\n",
       "      <th>V1</th>\n",
       "      <th>V2</th>\n",
       "      <th>V3</th>\n",
       "      <th>V4</th>\n",
       "      <th>V5</th>\n",
       "      <th>V6</th>\n",
       "      <th>V7</th>\n",
       "      <th>V8</th>\n",
       "      <th>V9</th>\n",
       "      <th>...</th>\n",
       "      <th>V21</th>\n",
       "      <th>V22</th>\n",
       "      <th>V23</th>\n",
       "      <th>V24</th>\n",
       "      <th>V25</th>\n",
       "      <th>V26</th>\n",
       "      <th>V27</th>\n",
       "      <th>V28</th>\n",
       "      <th>Class</th>\n",
       "      <th>Amount</th>\n",
       "    </tr>\n",
       "  </thead>\n",
       "  <tbody>\n",
       "    <tr>\n",
       "      <th>0</th>\n",
       "      <td>0.000000</td>\n",
       "      <td>-1.359807</td>\n",
       "      <td>-0.072781</td>\n",
       "      <td>2.536347</td>\n",
       "      <td>1.378155</td>\n",
       "      <td>-0.338321</td>\n",
       "      <td>0.462388</td>\n",
       "      <td>0.239599</td>\n",
       "      <td>0.098698</td>\n",
       "      <td>0.363787</td>\n",
       "      <td>...</td>\n",
       "      <td>-0.018307</td>\n",
       "      <td>0.277838</td>\n",
       "      <td>-0.110474</td>\n",
       "      <td>0.066928</td>\n",
       "      <td>0.128539</td>\n",
       "      <td>-0.189115</td>\n",
       "      <td>0.133558</td>\n",
       "      <td>-0.021053</td>\n",
       "      <td>0</td>\n",
       "      <td>5.008105</td>\n",
       "    </tr>\n",
       "    <tr>\n",
       "      <th>1</th>\n",
       "      <td>0.000000</td>\n",
       "      <td>1.191857</td>\n",
       "      <td>0.266151</td>\n",
       "      <td>0.166480</td>\n",
       "      <td>0.448154</td>\n",
       "      <td>0.060018</td>\n",
       "      <td>-0.082361</td>\n",
       "      <td>-0.078803</td>\n",
       "      <td>0.085102</td>\n",
       "      <td>-0.255425</td>\n",
       "      <td>...</td>\n",
       "      <td>-0.225775</td>\n",
       "      <td>-0.638672</td>\n",
       "      <td>0.101288</td>\n",
       "      <td>-0.339846</td>\n",
       "      <td>0.167170</td>\n",
       "      <td>0.125895</td>\n",
       "      <td>-0.008983</td>\n",
       "      <td>0.014724</td>\n",
       "      <td>0</td>\n",
       "      <td>0.989913</td>\n",
       "    </tr>\n",
       "    <tr>\n",
       "      <th>2</th>\n",
       "      <td>0.000278</td>\n",
       "      <td>-1.358354</td>\n",
       "      <td>-1.340163</td>\n",
       "      <td>1.773209</td>\n",
       "      <td>0.379780</td>\n",
       "      <td>-0.503198</td>\n",
       "      <td>1.800499</td>\n",
       "      <td>0.791461</td>\n",
       "      <td>0.247676</td>\n",
       "      <td>-1.514654</td>\n",
       "      <td>...</td>\n",
       "      <td>0.247998</td>\n",
       "      <td>0.771679</td>\n",
       "      <td>0.909412</td>\n",
       "      <td>-0.689281</td>\n",
       "      <td>-0.327642</td>\n",
       "      <td>-0.139097</td>\n",
       "      <td>-0.055353</td>\n",
       "      <td>-0.059752</td>\n",
       "      <td>0</td>\n",
       "      <td>5.936641</td>\n",
       "    </tr>\n",
       "    <tr>\n",
       "      <th>3</th>\n",
       "      <td>0.000278</td>\n",
       "      <td>-0.966272</td>\n",
       "      <td>-0.185226</td>\n",
       "      <td>1.792993</td>\n",
       "      <td>-0.863291</td>\n",
       "      <td>-0.010309</td>\n",
       "      <td>1.247203</td>\n",
       "      <td>0.237609</td>\n",
       "      <td>0.377436</td>\n",
       "      <td>-1.387024</td>\n",
       "      <td>...</td>\n",
       "      <td>-0.108300</td>\n",
       "      <td>0.005274</td>\n",
       "      <td>-0.190321</td>\n",
       "      <td>-1.175575</td>\n",
       "      <td>0.647376</td>\n",
       "      <td>-0.221929</td>\n",
       "      <td>0.062723</td>\n",
       "      <td>0.061458</td>\n",
       "      <td>0</td>\n",
       "      <td>4.816249</td>\n",
       "    </tr>\n",
       "    <tr>\n",
       "      <th>4</th>\n",
       "      <td>0.000556</td>\n",
       "      <td>-1.158233</td>\n",
       "      <td>0.877737</td>\n",
       "      <td>1.548718</td>\n",
       "      <td>0.403034</td>\n",
       "      <td>-0.407193</td>\n",
       "      <td>0.095921</td>\n",
       "      <td>0.592941</td>\n",
       "      <td>-0.270533</td>\n",
       "      <td>0.817739</td>\n",
       "      <td>...</td>\n",
       "      <td>-0.009431</td>\n",
       "      <td>0.798278</td>\n",
       "      <td>-0.137458</td>\n",
       "      <td>0.141267</td>\n",
       "      <td>-0.206010</td>\n",
       "      <td>0.502292</td>\n",
       "      <td>0.219422</td>\n",
       "      <td>0.215153</td>\n",
       "      <td>0</td>\n",
       "      <td>4.248367</td>\n",
       "    </tr>\n",
       "  </tbody>\n",
       "</table>\n",
       "<p>5 rows × 31 columns</p>\n",
       "</div>"
      ],
      "text/plain": [
       "       Time        V1        V2        V3        V4        V5        V6  \\\n",
       "0  0.000000 -1.359807 -0.072781  2.536347  1.378155 -0.338321  0.462388   \n",
       "1  0.000000  1.191857  0.266151  0.166480  0.448154  0.060018 -0.082361   \n",
       "2  0.000278 -1.358354 -1.340163  1.773209  0.379780 -0.503198  1.800499   \n",
       "3  0.000278 -0.966272 -0.185226  1.792993 -0.863291 -0.010309  1.247203   \n",
       "4  0.000556 -1.158233  0.877737  1.548718  0.403034 -0.407193  0.095921   \n",
       "\n",
       "         V7        V8        V9  ...       V21       V22       V23       V24  \\\n",
       "0  0.239599  0.098698  0.363787  ... -0.018307  0.277838 -0.110474  0.066928   \n",
       "1 -0.078803  0.085102 -0.255425  ... -0.225775 -0.638672  0.101288 -0.339846   \n",
       "2  0.791461  0.247676 -1.514654  ...  0.247998  0.771679  0.909412 -0.689281   \n",
       "3  0.237609  0.377436 -1.387024  ... -0.108300  0.005274 -0.190321 -1.175575   \n",
       "4  0.592941 -0.270533  0.817739  ... -0.009431  0.798278 -0.137458  0.141267   \n",
       "\n",
       "        V25       V26       V27       V28  Class    Amount  \n",
       "0  0.128539 -0.189115  0.133558 -0.021053      0  5.008105  \n",
       "1  0.167170  0.125895 -0.008983  0.014724      0  0.989913  \n",
       "2 -0.327642 -0.139097 -0.055353 -0.059752      0  5.936641  \n",
       "3  0.647376 -0.221929  0.062723  0.061458      0  4.816249  \n",
       "4 -0.206010  0.502292  0.219422  0.215153      0  4.248367  \n",
       "\n",
       "[5 rows x 31 columns]"
      ]
     },
     "execution_count": 33,
     "metadata": {},
     "output_type": "execute_result"
    }
   ],
   "source": [
    "preprocess_df = df.copy()\n",
    "\n",
    "# Time을 일중 시간으로 변환\n",
    "preprocess_df.loc[:, \"Time\"] = preprocess_df.loc[:, \"Time\"].apply(lambda x : x / 3600 % 24)\n",
    "\n",
    "preprocess_df.head()\n",
    "\n",
    "# Amount column 은 편차가 크므로 log-scale 로 변환\n",
    "eps=0.001\n",
    "preprocess_df['Amount'] = np.log(preprocess_df.pop('Amount') + eps)\n",
    "\n",
    "preprocess_df.head()"
   ]
  },
  {
   "cell_type": "code",
   "execution_count": 34,
   "metadata": {},
   "outputs": [
    {
     "data": {
      "text/plain": [
       "Text(0, 0.5, 'Count')"
      ]
     },
     "execution_count": 34,
     "metadata": {},
     "output_type": "execute_result"
    },
    {
     "data": {
      "image/png": "[encoded data removed]",
      "text/plain": [
       "<Figure size 600x400 with 2 Axes>"
      ]
     },
     "metadata": {},
     "output_type": "display_data"
    }
   ],
   "source": [
    "fig, (ax1, ax2) = plt.subplots(1, 2, figsize=(6,4))\n",
    "\n",
    "df['Amount'].plot(kind='hist', bins=2, ax=ax1)\n",
    "ax1.set_ylabel('Count')\n",
    "\n",
    "preprocess_df['Amount'].plot(kind='hist', bins=20, ax=ax2)\n",
    "ax2.set_ylabel('Count')"
   ]
  },
  {
   "cell_type": "code",
   "execution_count": 35,
   "metadata": {},
   "outputs": [
    {
     "data": {
      "text/plain": [
       "array([0, 0, 0, ..., 0, 0, 0])"
      ]
     },
     "execution_count": 35,
     "metadata": {},
     "output_type": "execute_result"
    }
   ],
   "source": [
    "labels = np.array(preprocess_df.pop('Class'))\n",
    "\n",
    "labels"
   ]
  },
  {
   "cell_type": "code",
   "execution_count": 36,
   "metadata": {},
   "outputs": [
    {
     "data": {
      "text/plain": [
       "(284807, 30)"
      ]
     },
     "execution_count": 36,
     "metadata": {},
     "output_type": "execute_result"
    }
   ],
   "source": [
    "features = preprocess_df.values\n",
    "features.shape\n"
   ]
  },
  {
   "cell_type": "code",
   "execution_count": 45,
   "metadata": {},
   "outputs": [
    {
     "name": "stderr",
     "output_type": "stream",
     "text": [
      "/var/folders/dr/74f443cx0ljg_9kz1_q1ylv80000gn/T/ipykernel_10069/2626068526.py:2: FutureWarning: \n",
      "\n",
      "Passing `palette` without assigning `hue` is deprecated and will be removed in v0.14.0. Assign the `x` variable to `hue` and set `legend=False` for the same effect.\n",
      "\n",
      "  sns.countplot(x=labels, palette='Set2')\n"
     ]
    },
    {
     "data": {
      "text/plain": [
       "<Axes: ylabel='count'>"
      ]
     },
     "execution_count": 45,
     "metadata": {},
     "output_type": "execute_result"
    },
    {
     "data": {
      "image/png": "[encoded data removed]",
      "text/plain": [
       "<Figure size 1000x500 with 1 Axes>"
      ]
     },
     "metadata": {},
     "output_type": "display_data"
    }
   ],
   "source": [
    "plt.figure(figsize=(10, 5))\n",
    "sns.countplot(x=labels, palette='Set2')"
   ]
  },
  {
   "cell_type": "markdown",
   "metadata": {
    "id": "q0AhbQkT_XS2"
   },
   "source": [
    "### Dataset 을 Training 과 Test set 으로 분리"
   ]
  },
  {
   "cell_type": "code",
   "execution_count": 48,
   "metadata": {},
   "outputs": [
    {
     "data": {
      "text/plain": [
       "((142403, 30), (142404, 30), (142403,), (142404,))"
      ]
     },
     "execution_count": 48,
     "metadata": {},
     "output_type": "execute_result"
    }
   ],
   "source": [
    "X_train, X_test, y_train, y_test = train_test_split(features, labels, test_size=0.5, random_state=42)\n",
    "\n",
    "X_train.shape, X_test.shape, y_train.shape, y_test.shape"
   ]
  },
  {
   "cell_type": "code",
   "execution_count": null,
   "metadata": {},
   "outputs": [],
   "source": []
  },
  {
   "cell_type": "code",
   "execution_count": 51,
   "metadata": {},
   "outputs": [
    {
     "name": "stdout",
     "output_type": "stream",
     "text": [
      "전체 data의 positive 건수 :  Counter({np.int64(0): 284315, np.int64(1): 492})\n",
      "Training set의 positive 건수 :  Counter({np.int64(0): 142157, np.int64(1): 246})\n",
      "Test set의 positive 건수 :  Counter({np.int64(0): 142158, np.int64(1): 246})\n"
     ]
    }
   ],
   "source": [
    "print(f'전체 data의 positive 건수 : ', Counter(labels))\n",
    "print(f'Training set의 positive 건수 : ', Counter(y_train))\n",
    "print(f'Test set의 positive 건수 : ', Counter(y_test))"
   ]
  },
  {
   "cell_type": "markdown",
   "metadata": {
    "id": "HbTDWeFP-W2t"
   },
   "source": [
    "## Feature Scaling"
   ]
  },
  {
   "cell_type": "code",
   "execution_count": 55,
   "metadata": {},
   "outputs": [],
   "source": [
    "sc = StandardScaler()\n",
    "X_train = sc.fit_transform(X_train)\n",
    "X_test = sc.transform(X_test)\n"
   ]
  },
  {
   "cell_type": "markdown",
   "metadata": {
    "id": "putdDmMN-W2t"
   },
   "source": [
    "### Metrics 정의\n",
    "- model train 중 측정할 metric  정의"
   ]
  },
  {
   "cell_type": "markdown",
   "metadata": {
    "id": "ejjpZM9Kt3ym"
   },
   "source": [
    "## Simple NN model 정의 - 이진 분류 모델"
   ]
  },
  {
   "cell_type": "code",
   "execution_count": 75,
   "metadata": {},
   "outputs": [
    {
     "name": "stdout",
     "output_type": "stream",
     "text": [
      "Mymodel(\n",
      "  (model): Sequential(\n",
      "    (0): Linear(in_features=30, out_features=32, bias=True)\n",
      "    (1): ReLU()\n",
      "    (2): Dropout(p=0.2, inplace=False)\n",
      "    (3): Linear(in_features=32, out_features=16, bias=True)\n",
      "    (4): ReLU()\n",
      "    (5): Dropout(p=0.2, inplace=False)\n",
      "    (6): Linear(in_features=16, out_features=1, bias=True)\n",
      "    (7): Sigmoid()\n",
      "  )\n",
      ")\n"
     ]
    }
   ],
   "source": [
    "class Mymodel(nn.Module):\n",
    "    def __init__(self, input_dim):\n",
    "        super(Mymodel, self).__init__()\n",
    "        self.model = nn.Sequential(\n",
    "            nn.Linear(input_dim, 32),  # input_dim을 동적으로 설정\n",
    "            nn.ReLU(),\n",
    "            nn.Dropout(0.2),\n",
    "            nn.Linear(32, 16),\n",
    "            nn.ReLU(),\n",
    "            nn.Dropout(0.2),\n",
    "            nn.Linear(16, 1),\n",
    "            nn.Sigmoid()\n",
    "        )\n",
    "\n",
    "    def forward(self, x):\n",
    "        return self.model(x)\n",
    "\n",
    "# 모델 생성\n",
    "input_dim = X_train.shape[-1]  # 입력 차원\n",
    "model = Mymodel(input_dim)\n",
    "\n",
    "# 손실 함수 및 옵티마이저 정의\n",
    "criterion = nn.BCELoss()  # 'binary_crossentropy'와 동일\n",
    "optimizer = optim.Adam(model.parameters(), lr=0.01)\n",
    "\n",
    "# 평가 메트릭 추가 (PyTorch는 기본 제공되지 않으므로 직접 계산)\n",
    "print(model)"
   ]
  },
  {
   "cell_type": "markdown",
   "metadata": {
    "id": "YuB7VrmAt3yr"
   },
   "source": [
    "### Baseline model build"
   ]
  },
  {
   "cell_type": "code",
   "execution_count": 65,
   "metadata": {},
   "outputs": [],
   "source": [
    "Epoch = 100\n",
    "Batch_size = 2048\n"
   ]
  },
  {
   "cell_type": "markdown",
   "metadata": {
    "id": "B-Ftgdtct3zb"
   },
   "source": [
    "## Train the model"
   ]
  },
  {
   "cell_type": "code",
   "execution_count": 68,
   "metadata": {},
   "outputs": [],
   "source": [
    "# 데이터셋 준비\n",
    "train_dataset = TensorDataset(torch.tensor(X_train, dtype=torch.float32), \n",
    "                               torch.tensor(y_train, dtype=torch.float32))\n",
    "test_dataset = TensorDataset(torch.tensor(X_test, dtype=torch.float32), \n",
    "                              torch.tensor(y_test, dtype=torch.float32))\n",
    "\n",
    "train_loader = DataLoader(train_dataset, batch_size=Batch_size, shuffle=True)\n",
    "test_loader = DataLoader(test_dataset, batch_size=Batch_size, shuffle=False)\n"
   ]
  },
  {
   "cell_type": "code",
   "execution_count": 76,
   "metadata": {},
   "outputs": [
    {
     "name": "stdout",
     "output_type": "stream",
     "text": [
      "Epoch 1/100 - Train Loss: 4.6301, Val Loss: 0.3993, Val AUC: 0.9545\n",
      "Epoch 2/100 - Train Loss: 0.3589, Val Loss: 0.3725, Val AUC: 0.9619\n",
      "Epoch 3/100 - Train Loss: 0.3161, Val Loss: 0.3437, Val AUC: 0.9669\n",
      "Epoch 4/100 - Train Loss: 0.2903, Val Loss: 0.3437, Val AUC: 0.9652\n",
      "Epoch 5/100 - Train Loss: 0.2820, Val Loss: 0.3482, Val AUC: 0.9676\n",
      "Epoch 6/100 - Train Loss: 0.2645, Val Loss: 0.3239, Val AUC: 0.9693\n",
      "Epoch 7/100 - Train Loss: 0.2572, Val Loss: 0.3245, Val AUC: 0.9698\n",
      "Epoch 8/100 - Train Loss: 0.2564, Val Loss: 0.3366, Val AUC: 0.9691\n",
      "Epoch 9/100 - Train Loss: 0.2410, Val Loss: 0.3283, Val AUC: 0.9670\n",
      "Epoch 10/100 - Train Loss: 0.2206, Val Loss: 0.3596, Val AUC: 0.9656\n",
      "Epoch 11/100 - Train Loss: 0.2096, Val Loss: 0.3539, Val AUC: 0.9660\n",
      "Epoch 12/100 - Train Loss: 0.2063, Val Loss: 0.3672, Val AUC: 0.9663\n",
      "Epoch 13/100 - Train Loss: 0.2126, Val Loss: 0.3700, Val AUC: 0.9653\n",
      "Epoch 14/100 - Train Loss: 0.2033, Val Loss: 0.3415, Val AUC: 0.9680\n",
      "Epoch 15/100 - Train Loss: 0.1950, Val Loss: 0.3556, Val AUC: 0.9668\n",
      "Epoch 16/100 - Train Loss: 0.1844, Val Loss: 0.3897, Val AUC: 0.9625\n",
      "Epoch 17/100 - Train Loss: 0.1926, Val Loss: 0.3958, Val AUC: 0.9605\n",
      "Epoch 18/100 - Train Loss: 0.1922, Val Loss: 0.3982, Val AUC: 0.9626\n",
      "Epoch 19/100 - Train Loss: 0.1776, Val Loss: 0.4085, Val AUC: 0.9621\n",
      "Epoch 20/100 - Train Loss: 0.1785, Val Loss: 0.4048, Val AUC: 0.9629\n",
      "Epoch 21/100 - Train Loss: 0.1794, Val Loss: 0.3799, Val AUC: 0.9638\n",
      "Epoch 22/100 - Train Loss: 0.1683, Val Loss: 0.3938, Val AUC: 0.9625\n",
      "Epoch 23/100 - Train Loss: 0.1611, Val Loss: 0.4345, Val AUC: 0.9630\n",
      "Epoch 24/100 - Train Loss: 0.1622, Val Loss: 0.4445, Val AUC: 0.9598\n",
      "Epoch 25/100 - Train Loss: 0.1541, Val Loss: 0.4405, Val AUC: 0.9632\n",
      "Epoch 26/100 - Train Loss: 0.1643, Val Loss: 0.4379, Val AUC: 0.9621\n",
      "Epoch 27/100 - Train Loss: 0.1527, Val Loss: 0.4853, Val AUC: 0.9592\n",
      "Epoch 28/100 - Train Loss: 0.1535, Val Loss: 0.4632, Val AUC: 0.9636\n",
      "Epoch 29/100 - Train Loss: 0.1509, Val Loss: 0.4611, Val AUC: 0.9627\n",
      "Epoch 30/100 - Train Loss: 0.1600, Val Loss: 0.4766, Val AUC: 0.9606\n",
      "Epoch 31/100 - Train Loss: 0.1428, Val Loss: 0.5229, Val AUC: 0.9603\n",
      "Epoch 32/100 - Train Loss: 0.1567, Val Loss: 0.4664, Val AUC: 0.9635\n",
      "Epoch 33/100 - Train Loss: 0.1459, Val Loss: 0.4813, Val AUC: 0.9625\n",
      "Epoch 34/100 - Train Loss: 0.1392, Val Loss: 0.5043, Val AUC: 0.9645\n",
      "Epoch 35/100 - Train Loss: 0.1480, Val Loss: 0.5108, Val AUC: 0.9624\n",
      "Epoch 36/100 - Train Loss: 0.1387, Val Loss: 0.5341, Val AUC: 0.9622\n",
      "Epoch 37/100 - Train Loss: 0.1345, Val Loss: 0.5605, Val AUC: 0.9620\n",
      "Epoch 38/100 - Train Loss: 0.1282, Val Loss: 0.5924, Val AUC: 0.9618\n",
      "Epoch 39/100 - Train Loss: 0.1345, Val Loss: 0.6072, Val AUC: 0.9610\n",
      "Epoch 40/100 - Train Loss: 0.1267, Val Loss: 0.6083, Val AUC: 0.9623\n",
      "Epoch 41/100 - Train Loss: 0.1258, Val Loss: 0.5752, Val AUC: 0.9615\n",
      "Epoch 42/100 - Train Loss: 0.1256, Val Loss: 0.6023, Val AUC: 0.9618\n",
      "Epoch 43/100 - Train Loss: 0.1284, Val Loss: 0.6139, Val AUC: 0.9633\n",
      "Epoch 44/100 - Train Loss: 0.1179, Val Loss: 0.5934, Val AUC: 0.9615\n",
      "Epoch 45/100 - Train Loss: 0.1250, Val Loss: 0.5974, Val AUC: 0.9605\n",
      "Epoch 46/100 - Train Loss: 0.1314, Val Loss: 0.5689, Val AUC: 0.9620\n",
      "Epoch 47/100 - Train Loss: 0.1233, Val Loss: 0.5785, Val AUC: 0.9605\n",
      "Epoch 48/100 - Train Loss: 0.1076, Val Loss: 0.6397, Val AUC: 0.9604\n",
      "Epoch 49/100 - Train Loss: 0.0955, Val Loss: 0.6859, Val AUC: 0.9599\n",
      "Epoch 50/100 - Train Loss: 0.1074, Val Loss: 0.6828, Val AUC: 0.9590\n",
      "Epoch 51/100 - Train Loss: 0.1044, Val Loss: 0.6791, Val AUC: 0.9594\n",
      "Epoch 52/100 - Train Loss: 0.0991, Val Loss: 0.6724, Val AUC: 0.9598\n",
      "Epoch 53/100 - Train Loss: 0.1023, Val Loss: 0.7286, Val AUC: 0.9562\n",
      "Epoch 54/100 - Train Loss: 0.1048, Val Loss: 0.6768, Val AUC: 0.9561\n",
      "Epoch 55/100 - Train Loss: 0.1054, Val Loss: 0.7358, Val AUC: 0.9550\n",
      "Epoch 56/100 - Train Loss: 0.1089, Val Loss: 0.6836, Val AUC: 0.9564\n",
      "Epoch 57/100 - Train Loss: 0.1033, Val Loss: 0.7055, Val AUC: 0.9568\n",
      "Epoch 58/100 - Train Loss: 0.1096, Val Loss: 0.6506, Val AUC: 0.9618\n",
      "Epoch 59/100 - Train Loss: 0.0942, Val Loss: 0.6896, Val AUC: 0.9599\n",
      "Epoch 60/100 - Train Loss: 0.1003, Val Loss: 0.6930, Val AUC: 0.9598\n",
      "Epoch 61/100 - Train Loss: 0.0893, Val Loss: 0.7780, Val AUC: 0.9607\n",
      "Epoch 62/100 - Train Loss: 0.0931, Val Loss: 0.7870, Val AUC: 0.9588\n",
      "Epoch 63/100 - Train Loss: 0.0898, Val Loss: 0.8159, Val AUC: 0.9595\n",
      "Epoch 64/100 - Train Loss: 0.0843, Val Loss: 0.9006, Val AUC: 0.9569\n",
      "Epoch 65/100 - Train Loss: 0.1028, Val Loss: 0.8192, Val AUC: 0.9595\n",
      "Epoch 66/100 - Train Loss: 0.0956, Val Loss: 0.8254, Val AUC: 0.9593\n",
      "Epoch 67/100 - Train Loss: 0.0846, Val Loss: 0.8434, Val AUC: 0.9593\n",
      "Epoch 68/100 - Train Loss: 0.0848, Val Loss: 0.8517, Val AUC: 0.9587\n",
      "Epoch 69/100 - Train Loss: 0.0892, Val Loss: 0.8424, Val AUC: 0.9602\n",
      "Epoch 70/100 - Train Loss: 0.0851, Val Loss: 0.7793, Val AUC: 0.9605\n",
      "Epoch 71/100 - Train Loss: 0.0960, Val Loss: 0.7963, Val AUC: 0.9615\n",
      "Epoch 72/100 - Train Loss: 0.0946, Val Loss: 0.8103, Val AUC: 0.9581\n",
      "Epoch 73/100 - Train Loss: 0.0929, Val Loss: 0.7440, Val AUC: 0.9597\n",
      "Epoch 74/100 - Train Loss: 0.0815, Val Loss: 0.8250, Val AUC: 0.9601\n",
      "Epoch 75/100 - Train Loss: 0.0821, Val Loss: 0.8164, Val AUC: 0.9611\n",
      "Epoch 76/100 - Train Loss: 0.0867, Val Loss: 0.7323, Val AUC: 0.9640\n",
      "Epoch 77/100 - Train Loss: 0.0902, Val Loss: 0.8216, Val AUC: 0.9645\n",
      "Epoch 78/100 - Train Loss: 0.0848, Val Loss: 0.8499, Val AUC: 0.9558\n",
      "Epoch 79/100 - Train Loss: 0.0881, Val Loss: 0.9123, Val AUC: 0.9575\n",
      "Epoch 80/100 - Train Loss: 0.0818, Val Loss: 0.8228, Val AUC: 0.9623\n",
      "Epoch 81/100 - Train Loss: 0.0814, Val Loss: 0.7627, Val AUC: 0.9643\n",
      "Epoch 82/100 - Train Loss: 0.0739, Val Loss: 0.7970, Val AUC: 0.9639\n",
      "Epoch 83/100 - Train Loss: 0.0804, Val Loss: 0.8083, Val AUC: 0.9648\n",
      "Epoch 84/100 - Train Loss: 0.0929, Val Loss: 0.8455, Val AUC: 0.9623\n",
      "Epoch 85/100 - Train Loss: 0.0783, Val Loss: 0.9182, Val AUC: 0.9605\n",
      "Epoch 86/100 - Train Loss: 0.0812, Val Loss: 0.9516, Val AUC: 0.9577\n",
      "Epoch 87/100 - Train Loss: 0.0726, Val Loss: 0.9329, Val AUC: 0.9593\n",
      "Epoch 88/100 - Train Loss: 0.0779, Val Loss: 0.8035, Val AUC: 0.9593\n",
      "Epoch 89/100 - Train Loss: 0.0872, Val Loss: 0.9027, Val AUC: 0.9572\n",
      "Epoch 90/100 - Train Loss: 0.0691, Val Loss: 0.9794, Val AUC: 0.9568\n",
      "Epoch 91/100 - Train Loss: 0.0819, Val Loss: 0.9645, Val AUC: 0.9545\n",
      "Epoch 92/100 - Train Loss: 0.0736, Val Loss: 1.0224, Val AUC: 0.9559\n",
      "Epoch 93/100 - Train Loss: 0.0641, Val Loss: 1.1157, Val AUC: 0.9537\n",
      "Epoch 94/100 - Train Loss: 0.0766, Val Loss: 1.1737, Val AUC: 0.9574\n",
      "Epoch 95/100 - Train Loss: 0.0744, Val Loss: 1.0237, Val AUC: 0.9617\n",
      "Epoch 96/100 - Train Loss: 0.0716, Val Loss: 0.9854, Val AUC: 0.9630\n",
      "Epoch 97/100 - Train Loss: 0.0768, Val Loss: 1.0424, Val AUC: 0.9626\n",
      "Epoch 98/100 - Train Loss: 0.0596, Val Loss: 1.0511, Val AUC: 0.9639\n",
      "Epoch 99/100 - Train Loss: 0.0566, Val Loss: 1.0246, Val AUC: 0.9639\n",
      "Epoch 100/100 - Train Loss: 0.0886, Val Loss: 0.9099, Val AUC: 0.9608\n"
     ]
    }
   ],
   "source": [
    "for epoch in range(Epoch):\n",
    "    model.train()  \n",
    "    train_loss = 0.0\n",
    "\n",
    "    for X_batch, y_batch in train_loader:\n",
    "        optimizer.zero_grad()\n",
    "        y_pred = model(X_batch).squeeze()  \n",
    "        loss = criterion(y_pred, y_batch)\n",
    "        loss.backward()\n",
    "        optimizer.step()\n",
    "        train_loss += loss.item()\n",
    "\n",
    "    model.eval()  \n",
    "    val_loss = 0.0\n",
    "    y_true = []\n",
    "    y_pred = []\n",
    "    with torch.no_grad():\n",
    "        for X_batch, y_batch in test_loader:\n",
    "            y_out = model(X_batch).squeeze()  \n",
    "            loss = criterion(y_out, y_batch)\n",
    "            val_loss += loss.item()\n",
    "\n",
    "            y_true.extend(y_batch.tolist())\n",
    "            y_pred.extend(y_out.tolist())\n",
    "\n",
    "    val_auc = roc_auc_score(y_true, y_pred)\n",
    "    print(f\"Epoch {epoch+1}/{Epoch} - Train Loss: {train_loss:.4f}, Val Loss: {val_loss:.4f}, Val AUC: {val_auc:.4f}\")\n"
   ]
  },
  {
   "cell_type": "code",
   "execution_count": null,
   "metadata": {},
   "outputs": [],
   "source": []
  },
  {
   "cell_type": "markdown",
   "metadata": {
    "id": "PROwAK95t3zl"
   },
   "source": [
    "## Evaluate Metric\n",
    "\n",
    "- confusion matrix 를 이용하여 metrics 요약"
   ]
  },
  {
   "cell_type": "code",
   "execution_count": 89,
   "metadata": {},
   "outputs": [
    {
     "name": "stdout",
     "output_type": "stream",
     "text": [
      "f1 score: 0.7908902691511387\n",
      "Accuracy 0.9992907502598242\n",
      "Precision 0.8059071729957806\n",
      "Recall 0.7764227642276422\n"
     ]
    },
    {
     "data": {
      "image/png": "[encoded data removed]",
      "text/plain": [
       "<Figure size 500x500 with 2 Axes>"
      ]
     },
     "metadata": {},
     "output_type": "display_data"
    }
   ],
   "source": [
    "from sklearn.metrics import confusion_matrix\n",
    "\n",
    "def confusion_matrix_plot(y_true, y_pred, threshold):\n",
    "    cm = confusion_matrix(y_true, [1 if pred > threshold else 0 for pred in y_pred])\n",
    "\n",
    "    print(\"f1 score:\", f1_score(y_true, [1 if pred > threshold else 0 for pred in y_pred]))\n",
    "    print(\"Accuracy\", accuracy_score(y_true, [1 if pred > threshold else 0 for pred in y_pred]))\n",
    "    print(\"Precision\", precision_score(y_true, [1 if pred > threshold else 0 for pred in y_pred]))\n",
    "    print(\"Recall\", recall_score(y_true, [1 if pred > threshold else 0 for pred in y_pred]))\n",
    "\n",
    "    plt.figure(figsize=(5,5))\n",
    "    sns.heatmap(cm, annot=True, fmt=\"d\")\n",
    "    plt.title('Confusion matrix (threshold>{:.2f}) '.format(threshold))\n",
    "    plt.ylabel('Actual label')\n",
    "    plt.xlabel('Predicted label')\n",
    "\n",
    "confusion_matrix_plot(y_test, y_pred, 0.5)\n"
   ]
  },
  {
   "cell_type": "markdown",
   "metadata": {
    "id": "LWD-EIM7t3zt"
   },
   "source": [
    "### Test dataset 으로 모델을 평가 하고, confusion matrix 를 그린다"
   ]
  },
  {
   "cell_type": "markdown",
   "metadata": {
    "id": "-P-iJJ1pt3z5"
   },
   "source": [
    "## Class Weight 조정\n",
    "\n",
    "사용할 positive 샘플이 많지 않기 때문에 가용한 적은 수의 sample 에 classifier 가 더 비중을 두도록 할 수 있다.  이는 모델이 과소 표현된 클래스의 샘플에 `더 많은주의를 기울이도록` 지시하는 데 유용.\n",
    "\n",
    "step1 - 레이블 및 관련 가중치로 dictionary 정의\n",
    "```\n",
    "class_weight ={0: 0.5008652375006595, 1: 289.43800813008136}\n",
    "```                \n",
    "step2 - dictionary를 매개 변수로 공급:  \n",
    "```\n",
    "    model.fit(X_train, Y_train, nb_epoch=5, batch_size=32, class_weight=class_weight)\n",
    "```\n",
    "\n",
    "- loss function 계산 시 class_weight 에 지정된 대로 가중 평균"
   ]
  },
  {
   "cell_type": "code",
   "execution_count": 90,
   "metadata": {},
   "outputs": [
    {
     "data": {
      "text/plain": [
       "(284315, 492, 284807)"
      ]
     },
     "execution_count": 90,
     "metadata": {},
     "output_type": "execute_result"
    }
   ],
   "source": [
    "neg, pos, total"
   ]
  },
  {
   "cell_type": "code",
   "execution_count": 91,
   "metadata": {},
   "outputs": [
    {
     "name": "stdout",
     "output_type": "stream",
     "text": [
      "Weight for class 0: 0.50\n",
      "Weight for class 1: 289.44\n"
     ]
    }
   ],
   "source": [
    "weight_for_0 = (1 / neg) * (total) / 2\n",
    "weight_for_1 = (1 / pos) * (total) / 2\n",
    "\n",
    "class_weight = {0: weight_for_0, 1: weight_for_1}\n",
    "\n",
    "print('Weight for class 0: {:.2f}'.format(weight_for_0))\n",
    "print('Weight for class 1: {:.2f}'.format(weight_for_1))"
   ]
  },
  {
   "cell_type": "code",
   "execution_count": 92,
   "metadata": {},
   "outputs": [
    {
     "data": {
      "text/plain": [
       "{0: 0.5008652375006595, 1: 289.43800813008136}"
      ]
     },
     "execution_count": 92,
     "metadata": {},
     "output_type": "execute_result"
    }
   ],
   "source": [
    "class_weight"
   ]
  },
  {
   "cell_type": "code",
   "execution_count": 94,
   "metadata": {},
   "outputs": [],
   "source": [
    "class_weight = torch.tensor([class_weight[0], class_weight[1]])"
   ]
  },
  {
   "cell_type": "code",
   "execution_count": 95,
   "metadata": {},
   "outputs": [
    {
     "data": {
      "text/plain": [
       "tensor([  0.5009, 289.4380])"
      ]
     },
     "execution_count": 95,
     "metadata": {},
     "output_type": "execute_result"
    }
   ],
   "source": [
    "class_weight"
   ]
  },
  {
   "cell_type": "code",
   "execution_count": 96,
   "metadata": {},
   "outputs": [
    {
     "name": "stdout",
     "output_type": "stream",
     "text": [
      "Epoch 1/100 - Train Loss: 1337.6132, Val Loss: 109.6012, Val AUC: 0.9624\n",
      "Epoch 2/100 - Train Loss: 101.8574, Val Loss: 108.3411, Val AUC: 0.9680\n",
      "Epoch 3/100 - Train Loss: 95.1035, Val Loss: 98.6620, Val AUC: 0.9727\n",
      "Epoch 4/100 - Train Loss: 88.9766, Val Loss: 104.6216, Val AUC: 0.9689\n",
      "Epoch 5/100 - Train Loss: 80.5959, Val Loss: 101.1584, Val AUC: 0.9696\n",
      "Epoch 6/100 - Train Loss: 78.2090, Val Loss: 99.9538, Val AUC: 0.9727\n",
      "Epoch 7/100 - Train Loss: 75.8725, Val Loss: 101.2188, Val AUC: 0.9695\n",
      "Epoch 8/100 - Train Loss: 71.7178, Val Loss: 100.6758, Val AUC: 0.9703\n",
      "Epoch 9/100 - Train Loss: 68.8960, Val Loss: 98.7583, Val AUC: 0.9698\n",
      "Epoch 10/100 - Train Loss: 66.6917, Val Loss: 102.5204, Val AUC: 0.9673\n",
      "Epoch 11/100 - Train Loss: 60.2388, Val Loss: 101.0792, Val AUC: 0.9668\n",
      "Epoch 12/100 - Train Loss: 61.9302, Val Loss: 95.4013, Val AUC: 0.9705\n",
      "Epoch 13/100 - Train Loss: 58.4499, Val Loss: 96.9343, Val AUC: 0.9726\n",
      "Epoch 14/100 - Train Loss: 60.7583, Val Loss: 97.4517, Val AUC: 0.9722\n",
      "Epoch 15/100 - Train Loss: 58.2158, Val Loss: 105.5204, Val AUC: 0.9702\n",
      "Epoch 16/100 - Train Loss: 54.9040, Val Loss: 104.8070, Val AUC: 0.9686\n",
      "Epoch 17/100 - Train Loss: 55.2572, Val Loss: 102.9018, Val AUC: 0.9715\n",
      "Epoch 18/100 - Train Loss: 56.3378, Val Loss: 108.3001, Val AUC: 0.9700\n",
      "Epoch 19/100 - Train Loss: 53.4631, Val Loss: 108.4087, Val AUC: 0.9702\n",
      "Epoch 20/100 - Train Loss: 52.7947, Val Loss: 106.2176, Val AUC: 0.9700\n",
      "Epoch 21/100 - Train Loss: 49.4733, Val Loss: 113.0082, Val AUC: 0.9681\n",
      "Epoch 22/100 - Train Loss: 47.4832, Val Loss: 115.6352, Val AUC: 0.9689\n",
      "Epoch 23/100 - Train Loss: 46.4836, Val Loss: 116.2027, Val AUC: 0.9691\n",
      "Epoch 24/100 - Train Loss: 49.7423, Val Loss: 114.8445, Val AUC: 0.9683\n",
      "Epoch 25/100 - Train Loss: 50.4518, Val Loss: 116.2842, Val AUC: 0.9681\n",
      "Epoch 26/100 - Train Loss: 46.5854, Val Loss: 130.6868, Val AUC: 0.9655\n",
      "Epoch 27/100 - Train Loss: 45.4652, Val Loss: 128.2787, Val AUC: 0.9662\n",
      "Epoch 28/100 - Train Loss: 43.6453, Val Loss: 120.8504, Val AUC: 0.9675\n",
      "Epoch 29/100 - Train Loss: 42.5190, Val Loss: 128.5199, Val AUC: 0.9682\n",
      "Epoch 30/100 - Train Loss: 41.5640, Val Loss: 134.9500, Val AUC: 0.9665\n",
      "Epoch 31/100 - Train Loss: 44.1934, Val Loss: 136.3254, Val AUC: 0.9669\n",
      "Epoch 32/100 - Train Loss: 45.4263, Val Loss: 125.4836, Val AUC: 0.9693\n",
      "Epoch 33/100 - Train Loss: 41.0887, Val Loss: 130.6897, Val AUC: 0.9699\n",
      "Epoch 34/100 - Train Loss: 44.2682, Val Loss: 131.0691, Val AUC: 0.9707\n",
      "Epoch 35/100 - Train Loss: 41.3508, Val Loss: 135.8861, Val AUC: 0.9673\n",
      "Epoch 36/100 - Train Loss: 40.0834, Val Loss: 141.3447, Val AUC: 0.9673\n",
      "Epoch 37/100 - Train Loss: 41.7326, Val Loss: 137.9014, Val AUC: 0.9673\n",
      "Epoch 38/100 - Train Loss: 36.5777, Val Loss: 150.4419, Val AUC: 0.9663\n",
      "Epoch 39/100 - Train Loss: 38.1229, Val Loss: 152.7416, Val AUC: 0.9667\n",
      "Epoch 40/100 - Train Loss: 40.2100, Val Loss: 155.9864, Val AUC: 0.9678\n",
      "Epoch 41/100 - Train Loss: 39.4556, Val Loss: 147.5767, Val AUC: 0.9675\n",
      "Epoch 42/100 - Train Loss: 37.5554, Val Loss: 147.6060, Val AUC: 0.9680\n",
      "Epoch 43/100 - Train Loss: 38.7453, Val Loss: 154.6053, Val AUC: 0.9687\n",
      "Epoch 44/100 - Train Loss: 34.7972, Val Loss: 170.3917, Val AUC: 0.9678\n",
      "Epoch 45/100 - Train Loss: 34.9312, Val Loss: 153.7175, Val AUC: 0.9694\n",
      "Epoch 46/100 - Train Loss: 35.2847, Val Loss: 178.6448, Val AUC: 0.9677\n",
      "Epoch 47/100 - Train Loss: 36.6075, Val Loss: 166.6642, Val AUC: 0.9667\n",
      "Epoch 48/100 - Train Loss: 34.2961, Val Loss: 164.2835, Val AUC: 0.9663\n",
      "Epoch 49/100 - Train Loss: 34.4415, Val Loss: 169.4754, Val AUC: 0.9675\n",
      "Epoch 50/100 - Train Loss: 36.2158, Val Loss: 169.2683, Val AUC: 0.9675\n",
      "Epoch 51/100 - Train Loss: 35.0666, Val Loss: 161.5362, Val AUC: 0.9661\n",
      "Epoch 52/100 - Train Loss: 32.1540, Val Loss: 185.1937, Val AUC: 0.9650\n",
      "Epoch 53/100 - Train Loss: 31.1385, Val Loss: 183.2301, Val AUC: 0.9655\n",
      "Epoch 54/100 - Train Loss: 31.9750, Val Loss: 197.7380, Val AUC: 0.9649\n",
      "Epoch 55/100 - Train Loss: 34.0226, Val Loss: 202.4253, Val AUC: 0.9653\n",
      "Epoch 56/100 - Train Loss: 29.8341, Val Loss: 199.6118, Val AUC: 0.9667\n",
      "Epoch 57/100 - Train Loss: 30.7816, Val Loss: 202.9645, Val AUC: 0.9667\n",
      "Epoch 58/100 - Train Loss: 29.8493, Val Loss: 210.2660, Val AUC: 0.9662\n",
      "Epoch 59/100 - Train Loss: 30.2659, Val Loss: 210.4170, Val AUC: 0.9661\n",
      "Epoch 60/100 - Train Loss: 30.2256, Val Loss: 203.8479, Val AUC: 0.9680\n",
      "Epoch 61/100 - Train Loss: 30.8004, Val Loss: 209.0489, Val AUC: 0.9660\n",
      "Epoch 62/100 - Train Loss: 30.6018, Val Loss: 214.6346, Val AUC: 0.9666\n",
      "Epoch 63/100 - Train Loss: 28.7833, Val Loss: 239.9961, Val AUC: 0.9645\n",
      "Epoch 64/100 - Train Loss: 33.0231, Val Loss: 204.2068, Val AUC: 0.9664\n",
      "Epoch 65/100 - Train Loss: 29.4315, Val Loss: 207.5757, Val AUC: 0.9653\n",
      "Epoch 66/100 - Train Loss: 25.5140, Val Loss: 228.5588, Val AUC: 0.9646\n",
      "Epoch 67/100 - Train Loss: 24.4767, Val Loss: 234.7999, Val AUC: 0.9653\n",
      "Epoch 68/100 - Train Loss: 26.2786, Val Loss: 241.0082, Val AUC: 0.9660\n",
      "Epoch 69/100 - Train Loss: 28.7209, Val Loss: 248.4937, Val AUC: 0.9646\n",
      "Epoch 70/100 - Train Loss: 28.4451, Val Loss: 234.2787, Val AUC: 0.9656\n",
      "Epoch 71/100 - Train Loss: 27.3315, Val Loss: 244.8218, Val AUC: 0.9652\n",
      "Epoch 72/100 - Train Loss: 27.5407, Val Loss: 238.0484, Val AUC: 0.9651\n",
      "Epoch 73/100 - Train Loss: 33.4657, Val Loss: 227.0642, Val AUC: 0.9639\n",
      "Epoch 74/100 - Train Loss: 31.8085, Val Loss: 217.0807, Val AUC: 0.9659\n",
      "Epoch 75/100 - Train Loss: 26.9979, Val Loss: 240.9443, Val AUC: 0.9669\n",
      "Epoch 76/100 - Train Loss: 28.6569, Val Loss: 253.0049, Val AUC: 0.9646\n",
      "Epoch 77/100 - Train Loss: 29.0876, Val Loss: 235.1693, Val AUC: 0.9628\n",
      "Epoch 78/100 - Train Loss: 27.3341, Val Loss: 249.7099, Val AUC: 0.9647\n",
      "Epoch 79/100 - Train Loss: 23.1668, Val Loss: 259.0134, Val AUC: 0.9646\n",
      "Epoch 80/100 - Train Loss: 27.2754, Val Loss: 260.4169, Val AUC: 0.9631\n",
      "Epoch 81/100 - Train Loss: 29.1810, Val Loss: 245.3919, Val AUC: 0.9631\n",
      "Epoch 82/100 - Train Loss: 27.0755, Val Loss: 256.2656, Val AUC: 0.9634\n",
      "Epoch 83/100 - Train Loss: 25.5424, Val Loss: 251.3458, Val AUC: 0.9638\n",
      "Epoch 84/100 - Train Loss: 24.9159, Val Loss: 268.4326, Val AUC: 0.9638\n",
      "Epoch 85/100 - Train Loss: 25.5669, Val Loss: 259.9555, Val AUC: 0.9636\n",
      "Epoch 86/100 - Train Loss: 27.7957, Val Loss: 264.9723, Val AUC: 0.9629\n",
      "Epoch 87/100 - Train Loss: 25.2283, Val Loss: 281.1216, Val AUC: 0.9637\n",
      "Epoch 88/100 - Train Loss: 24.4107, Val Loss: 312.1285, Val AUC: 0.9629\n",
      "Epoch 89/100 - Train Loss: 24.4277, Val Loss: 325.1971, Val AUC: 0.9628\n",
      "Epoch 90/100 - Train Loss: 22.2655, Val Loss: 332.8257, Val AUC: 0.9635\n",
      "Epoch 91/100 - Train Loss: 24.2320, Val Loss: 276.6939, Val AUC: 0.9665\n",
      "Epoch 92/100 - Train Loss: 24.7524, Val Loss: 282.7825, Val AUC: 0.9669\n",
      "Epoch 93/100 - Train Loss: 24.6070, Val Loss: 310.3933, Val AUC: 0.9668\n",
      "Epoch 94/100 - Train Loss: 24.7174, Val Loss: 332.7870, Val AUC: 0.9654\n",
      "Epoch 95/100 - Train Loss: 23.9193, Val Loss: 285.1087, Val AUC: 0.9656\n",
      "Epoch 96/100 - Train Loss: 27.5835, Val Loss: 303.0209, Val AUC: 0.9629\n",
      "Epoch 97/100 - Train Loss: 29.1492, Val Loss: 282.2550, Val AUC: 0.9640\n",
      "Epoch 98/100 - Train Loss: 24.1439, Val Loss: 313.6702, Val AUC: 0.9636\n",
      "Epoch 99/100 - Train Loss: 24.3243, Val Loss: 301.3398, Val AUC: 0.9638\n",
      "Epoch 100/100 - Train Loss: 25.0029, Val Loss: 318.5202, Val AUC: 0.9634\n"
     ]
    }
   ],
   "source": [
    "# 모델 정의\n",
    "class WeightedModel(nn.Module):\n",
    "    def __init__(self, input_dim):\n",
    "        super(WeightedModel, self).__init__()\n",
    "        self.model = nn.Sequential(\n",
    "            nn.Linear(input_dim, 32),\n",
    "            nn.ReLU(),\n",
    "            nn.Dropout(0.2),\n",
    "            nn.Linear(32, 16),\n",
    "            nn.ReLU(),\n",
    "            nn.Dropout(0.2),\n",
    "            nn.Linear(16, 1),\n",
    "            nn.Sigmoid()\n",
    "        )\n",
    "\n",
    "    def forward(self, x):\n",
    "        return self.model(x)\n",
    "\n",
    "input_dim = X_train.shape[-1]\n",
    "model = WeightedModel(input_dim)\n",
    "\n",
    "# 손실 함수에서 클래스 가중치 적용\n",
    "# 가중치는 Tensor 형태로 전달\n",
    "criterion = nn.BCELoss(weight=class_weight[1])\n",
    "\n",
    "# 옵티마이저 정의\n",
    "optimizer = optim.Adam(model.parameters(), lr=0.01)\n",
    "\n",
    "# 학습 루프\n",
    "EPOCHS = 100\n",
    "for epoch in range(EPOCHS):\n",
    "    model.train()\n",
    "    train_loss = 0.0\n",
    "    for X_batch, y_batch in train_loader:\n",
    "        optimizer.zero_grad()\n",
    "        y_pred = model(X_batch).squeeze()\n",
    "        loss = criterion(y_pred, y_batch)\n",
    "        loss.backward()\n",
    "        optimizer.step()\n",
    "        train_loss += loss.item()\n",
    "\n",
    "    # 유효성 검증\n",
    "    model.eval()\n",
    "    val_loss = 0.0\n",
    "    y_true = []\n",
    "    y_pred = []\n",
    "    with torch.no_grad():\n",
    "        for X_batch, y_batch in test_loader:\n",
    "            y_out = model(X_batch).squeeze()\n",
    "            loss = criterion(y_out, y_batch)\n",
    "            val_loss += loss.item()\n",
    "\n",
    "            y_true.extend(y_batch.tolist())\n",
    "            y_pred.extend(y_out.tolist())\n",
    "\n",
    "    # AUC 계산\n",
    "    val_auc = roc_auc_score(y_true, y_pred)\n",
    "    print(f\"Epoch {epoch+1}/{EPOCHS} - Train Loss: {train_loss:.4f}, Val Loss: {val_loss:.4f}, Val AUC: {val_auc:.4f}\")"
   ]
  },
  {
   "cell_type": "code",
   "execution_count": 99,
   "metadata": {},
   "outputs": [
    {
     "name": "stdout",
     "output_type": "stream",
     "text": [
      "f1 score: 0.7833333333333333\n",
      "Accuracy 0.9992696834358585\n",
      "Precision 0.8034188034188035\n",
      "Recall 0.7642276422764228\n"
     ]
    },
    {
     "data": {
      "image/png": "[encoded data removed]",
      "text/plain": [
       "<Figure size 500x500 with 2 Axes>"
      ]
     },
     "metadata": {},
     "output_type": "display_data"
    }
   ],
   "source": [
    "# 모델을 평가 모드로 설정\n",
    "model.eval()\n",
    "\n",
    "# 예측 수행\n",
    "with torch.no_grad():\n",
    "    predictions_weighted = model(torch.tensor(X_test, dtype=torch.float32)).squeeze()\n",
    "\n",
    "predictions_weighted = predictions_weighted.numpy()\n",
    "\n",
    "confusion_matrix_plot(y_test, predictions_weighted, 0.5)"
   ]
  },
  {
   "cell_type": "markdown",
   "metadata": {
    "id": "wW0fego1-07I"
   },
   "source": [
    "각 클래스의 샘플 수에 반비례하는 가중치를 계산하여, 모델 학습 시 소수 클래스의 중요도를 증가시키고 다수 클래스의 중요도를 감소시킵니다. 이 방법은 모델이 소수 클래스를 더 잘 학습하도록 돕습니다."
   ]
  },
  {
   "cell_type": "markdown",
   "metadata": {
    "id": "FF42Tjcdt30K"
   },
   "source": [
    "## Plot the ROC"
   ]
  },
  {
   "cell_type": "markdown",
   "metadata": {
    "id": "rcbHFEtjGzxD"
   },
   "source": [
    "## Next Step => Over+Under-sampling model과 weight 조절 DNN model 비교"
   ]
  }
 ],
 "metadata": {
  "accelerator": "GPU",
  "colab": {
   "gpuType": "T4",
   "machine_shape": "hm",
   "provenance": []
  },
  "kernelspec": {
   "display_name": "Python 3 (ipykernel)",
   "language": "python",
   "name": "python3"
  },
  "language_info": {
   "codemirror_mode": {
    "name": "ipython",
    "version": 3
   },
   "file_extension": ".py",
   "mimetype": "text/x-python",
   "name": "python",
   "nbconvert_exporter": "python",
   "pygments_lexer": "ipython3",
   "version": "3.12.7"
  }
 },
 "nbformat": 4,
 "nbformat_minor": 1
}
